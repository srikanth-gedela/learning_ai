{
 "cells": [
  {
   "cell_type": "code",
   "execution_count": 1,
   "id": "8e24e740-bac7-4f7d-b27a-19e688f7d1f8",
   "metadata": {},
   "outputs": [],
   "source": [
    "import openai\n",
    "from openai import OpenAI\n",
    "import os"
   ]
  },
  {
   "cell_type": "code",
   "execution_count": 3,
   "id": "e1b1329f-f1af-4f23-b518-6694e94a337e",
   "metadata": {},
   "outputs": [],
   "source": [
    "client = OpenAI()"
   ]
  },
  {
   "cell_type": "code",
   "execution_count": 9,
   "id": "f68b53ce-9a6c-45fd-8092-fb173d8ea119",
   "metadata": {},
   "outputs": [],
   "source": [
    "response= client.chat.completions.create(\n",
    "    model='gpt-4o-mini',\n",
    "    messages=[{\"role\":\"user\", \"content\":\"who won the 2024 elections in UK and euro cup 2024\"}]\n",
    ")"
   ]
  },
  {
   "cell_type": "code",
   "execution_count": 10,
   "id": "09c9d121-777f-4978-9737-b919e4d9ca15",
   "metadata": {},
   "outputs": [
    {
     "name": "stdout",
     "output_type": "stream",
     "text": [
      "ChatCompletion(id='chatcmpl-9n60q81ZtRfno0t0NUn2IVtS4aktO', choices=[Choice(finish_reason='stop', index=0, logprobs=None, message=ChatCompletionMessage(content=\"I don't have information on events beyond October 2023, including the winners of the 2024 UK elections or Euro Cup 2024. You may want to check the latest news sources for the most current information regarding these events.\", role='assistant', function_call=None, tool_calls=None))], created=1721488212, model='gpt-4o-mini-2024-07-18', object='chat.completion', service_tier=None, system_fingerprint='fp_8b761cb050', usage=CompletionUsage(completion_tokens=47, prompt_tokens=22, total_tokens=69))\n"
     ]
    }
   ],
   "source": [
    "print(response)"
   ]
  },
  {
   "cell_type": "code",
   "execution_count": 11,
   "id": "b72fd440-6f66-4fe6-b6a0-575f229159d6",
   "metadata": {},
   "outputs": [
    {
     "name": "stdout",
     "output_type": "stream",
     "text": [
      "I don't have information on events beyond October 2023, including the winners of the 2024 UK elections or Euro Cup 2024. You may want to check the latest news sources for the most current information regarding these events.\n"
     ]
    }
   ],
   "source": [
    "print(response.choices[0].message.content)"
   ]
  },
  {
   "cell_type": "code",
   "execution_count": 1,
   "id": "e9384465-971c-48fa-a6ca-a9a8a6cec99f",
   "metadata": {},
   "outputs": [],
   "source": []
  },
  {
   "cell_type": "code",
   "execution_count": 2,
   "id": "9b0568f6-5b47-470c-9668-216b3ce72343",
   "metadata": {},
   "outputs": [],
   "source": [
    "import mesop as me\n",
    "import mesop.labs as mel\n",
    "\n",
    "@me.page(path=\"/chat\")\n",
    "def chat():\n",
    "  mel.chat(transform)\n",
    "\n",
    "def transform(prompt: str, history: list[mel.ChatMessage]) -> str:\n",
    "    print(prompt, history)\n",
    "    history_string = \"\"\n",
    "    for m in history:\n",
    "        history_string += f\"{m.role}: {m.content}\\n\"\n",
    "    response = conversation_chain.invoke({\"text\": prompt, \"memory\": history_string})\n",
    "    return response.content"
   ]
  },
  {
   "cell_type": "code",
   "execution_count": null,
   "id": "66f62beb-cfa3-4138-a0db-9f0f3df4e188",
   "metadata": {},
   "outputs": [],
   "source": [
    "me.sh"
   ]
  }
 ],
 "metadata": {
  "kernelspec": {
   "display_name": "Python 3 (ipykernel)",
   "language": "python",
   "name": "python3"
  },
  "language_info": {
   "codemirror_mode": {
    "name": "ipython",
    "version": 3
   },
   "file_extension": ".py",
   "mimetype": "text/x-python",
   "name": "python",
   "nbconvert_exporter": "python",
   "pygments_lexer": "ipython3",
   "version": "3.10.13"
  }
 },
 "nbformat": 4,
 "nbformat_minor": 5
}
